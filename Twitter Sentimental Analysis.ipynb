{
 "cells": [
  {
   "cell_type": "code",
   "execution_count": 3,
   "metadata": {},
   "outputs": [
    {
     "name": "stdout",
     "output_type": "stream",
     "text": [
      "[('Kedar', 'NNP'), ('is', 'VBZ'), ('doing', 'VBG'), ('sentimental', 'JJ'), ('analysis', 'NN')]\n",
      "['Kedar', 'is', 'doing', 'sentimental', 'analysis']\n",
      "-0.25\n"
     ]
    }
   ],
   "source": [
    "from textblob import TextBlob\n",
    "k = TextBlob(\"Kedar is doing sentimental analysis\")\n",
    "print(k.tags)\n",
    "print(k.words)\n",
    "print(k.sentiment.polarity)\n"
   ]
  },
  {
   "cell_type": "code",
   "execution_count": 6,
   "metadata": {},
   "outputs": [
    {
     "name": "stdout",
     "output_type": "stream",
     "text": [
      "शायद पहली बार पीएम के खिलाफ बोला कोई भाजपा सांसद- सवाल पूछो तो गुस्सा जाते हैं नरेंद्र मोदी https://t.co/KObpi4k7jT/nSentiment(polarity=0.0, subjectivity=0.0)/nhttps://t.co/FpyMvqzFky @WithCongressGuj @SATAVRAJEEV @BharatSolankee @jitupatwari @B_B_Thorat @shaktisinhgohil/nSentiment(polarity=0.0, subjectivity=0.0)/n#Cabinetreshuffle: #PMNarendraModi may have room for 20 new faces, 81-member Council of Ministers allowed\n",
      "https://t.co/N0qvwSlpMU/nSentiment(polarity=0.13636363636363635, subjectivity=0.45454545454545453)/nRT @VijayGoelBJP: प्रधानमंत्री @narendramodi भारत के युवाओं के लिए फिल्मस्टार से भी बड़े सुपरस्टार: @SadhguruJV\n",
      " https://t.co/nZKOuJIOhA\n",
      "\n",
      "v…/nSentiment(polarity=0.0, subjectivity=0.0)/nRT @PathanAsmakhan: Worth clapping! PM Modi is a bigger superstar than filmstars for India's youth, states Sadhguru Jaggi Vasudev.\n",
      "https://…/nSentiment(polarity=0.1875, subjectivity=0.3)/nಮೊದಲು ಮೋದಿ ಮತ್ತು ಅವರ ಕುಟುಂಬ ಒಂದುಗೂಡಿಸಲಿ; ಅಮೇಲೆ ರಾಹುಲ್  ಗೆ ಹೆಣ್ಣು ಹುಡುಕುವ ಬಗ್ಗೆ ಮಾತನಾಡಲಿ- ಬಿಜೆಪಿ ನಾಯಕರಿಗೆ ಎಂಎಲ್ ಸಿ... https://t.co/IzyfBYKCpX/nSentiment(polarity=0.0, subjectivity=0.0)/nRT @BJPLive: PM @narendramodi is a bigger superstar than filmstars for India's youth: @SadhguruJV https://t.co/eceRLcYsLD #BJPNewsTrack/nSentiment(polarity=0.0, subjectivity=0.5)/nRT @Naveen_Kr_Shahi: Rewarded for??\n",
      "'While Rajiv Gandhi was killed on his watch in 1991, Narendra Modi was exonerated by him in 2012’\n",
      "https…/nSentiment(polarity=-0.2, subjectivity=0.0)/nRT @PathanAsmakhan: Good News! PM Modi’s $87 billion river-linking plan would help India fight floods, droughts. #TransformingIndia\n",
      "https:/…/nSentiment(polarity=0.875, subjectivity=0.6000000000000001)/nRT @PathanAsmakhan: Worth clapping! PM Modi is a bigger superstar than filmstars for India's youth, states Sadhguru Jaggi Vasudev.\n",
      "https://…/nSentiment(polarity=0.1875, subjectivity=0.3)/nRT @CRPaatil: PM Shri @narendramodi ji is a bigger superstar than filmstars for India's youth: @SadhguruJV ji\n",
      "to @IndiaToday \n",
      "\n",
      "https://t.co…/nSentiment(polarity=0.0, subjectivity=0.5)/nAll eyes on PM Narendra Modi and Xi Jinping at BRICS summit https://t.co/XorZS5wiER/nSentiment(polarity=0.0, subjectivity=0.0)/nRT @Lakshya2019: Worth clapping! PM #Modi is a bigger superstar than filmstars for India's youth, states Sadhguru Jaggi Vasudev.\n",
      "https://t.…/nSentiment(polarity=0.1875, subjectivity=0.3)/nRT @paranjoygt: PM Narendra Modi doesn’t like to take questions: Maharashtra BJP MP https://t.co/a0ZI8z89Gb via @IndianExpress/nSentiment(polarity=0.0, subjectivity=0.0)/nRT @churumuri: Three things Narendra Modi must do in the reshuffle tomorrow if he doesn’t want a surprise… https://t.co/ivCRiULd8v https://…/nSentiment(polarity=0.0, subjectivity=0.0)/n"
     ]
    }
   ],
   "source": [
    "import tweepy\n",
    "from textblob import TextBlob\n",
    "\n",
    "cons_key = \"TvZMvOEDMJixXFuDvzsUYHBNU\"\n",
    "cons_scrt = \"cqpLsOwQhRqwHz7zOioFOtwjO42NHpgLLwWoeMJnF1LOmfal7h\"\n",
    "\n",
    "access_token = \"141833002-JDISojEnXhgJgh7T8t46keYlnBvyyXsUBvEzDR5l\"\n",
    "access_token_scrt = \"T9pUiNnX43Xde3xUWiYIQpQZdavy1FeSasbNjxXMT1cdE\"\n",
    "\n",
    "auth = tweepy.OAuthHandler(cons_key,cons_scrt)\n",
    "auth.set_access_token(access_token,access_token_scrt)\n",
    "\n",
    "api = tweepy.API(auth)\n",
    "\n",
    "pub_tweets = api.search(\"Narendra Modi\")\n",
    "\n",
    "for i in pub_tweets:\n",
    "    print(i.text,end=\"/n\")\n",
    "    analysis = TextBlob(i.text)\n",
    "    print(analysis.sentiment,end=\"/n\")"
   ]
  }
 ],
 "metadata": {
  "kernelspec": {
   "display_name": "Python 3",
   "language": "python",
   "name": "python3"
  },
  "language_info": {
   "codemirror_mode": {
    "name": "ipython",
    "version": 3
   },
   "file_extension": ".py",
   "mimetype": "text/x-python",
   "name": "python",
   "nbconvert_exporter": "python",
   "pygments_lexer": "ipython3",
   "version": "3.6.1"
  }
 },
 "nbformat": 4,
 "nbformat_minor": 2
}
